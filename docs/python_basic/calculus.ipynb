{
 "cells": [
  {
   "attachments": {},
   "cell_type": "markdown",
   "metadata": {},
   "source": [
    "# Calculus"
   ]
  },
  {
   "cell_type": "code",
   "execution_count": null,
   "metadata": {},
   "outputs": [],
   "source": [
    "n = int(input( \" > \" ))\n",
    "print( n - 1 , n , n + 1)"
   ]
  },
  {
   "cell_type": "code",
   "execution_count": null,
   "metadata": {},
   "outputs": [],
   "source": [
    "n = int(input( \" > \" ))\n",
    "print( 1000 * (n % 8) + 100 * (n % 8) + 10 * (n % 30) + n % (30) )"
   ]
  },
  {
   "cell_type": "code",
   "execution_count": null,
   "metadata": {},
   "outputs": [],
   "source": [
    "n = int(input( \" > \" ))\n",
    "print( n - 1 , n , n + 1)\n",
    "\n",
    "\n",
    "n = int(input( \" > \" ))\n",
    "print( 1000 * (n % 81) + 100 * (n % 81) + 10 * (n % 30) + n % (30) )"
   ]
  },
  {
   "cell_type": "code",
   "execution_count": null,
   "metadata": {},
   "outputs": [],
   "source": [
    "for i in range( 1 , 6 ) :\n",
    "    \n",
    "    print( ( str(i) + ' ' ) * ( i ))"
   ]
  },
  {
   "cell_type": "code",
   "execution_count": null,
   "metadata": {},
   "outputs": [],
   "source": [
    "for i in range(10, 100):\n",
    "\n",
    "    if i % 7 == 0 or i % 9 == 0:\n",
    "        continue\n",
    "\n",
    "    print(i, end=\" \")"
   ]
  },
  {
   "cell_type": "code",
   "execution_count": null,
   "metadata": {},
   "outputs": [],
   "source": [
    "a = int( input( \" a = \" ))\n",
    "b = int( input( \" b = \" ))\n",
    "if a != b :\n",
    "    \n",
    "    print( \" different \" )\n",
    "    \n",
    "else :\n",
    "    print( \" same \" )"
   ]
  },
  {
   "cell_type": "code",
   "execution_count": null,
   "metadata": {},
   "outputs": [],
   "source": [
    "for i in range( 10 , 100 ) :\n",
    "    \n",
    "    if i % 2 == 0 or i % 3 == 0 or i % 5 ==0 : continue\n",
    "        \n",
    "    print( i , end =\" \")"
   ]
  },
  {
   "cell_type": "code",
   "execution_count": null,
   "metadata": {},
   "outputs": [],
   "source": [
    "a , b = eval(input( \" > \"))\n",
    "ans = 0\n",
    "for i in range( a , b + 1 ) :\n",
    "    \n",
    "    ans += i\n",
    "    \n",
    "print( a, \"+\" , a + 1 , \"+\" , \"...\" , \"+\" , b , \"=\" , ans )"
   ]
  },
  {
   "cell_type": "code",
   "execution_count": null,
   "metadata": {},
   "outputs": [],
   "source": [
    "a , b = eval(input( \" > \"))\n",
    "ans = 0\n",
    "for i in range( a , b + 1 ) :\n",
    "    \n",
    "    ans += i\n",
    "    \n",
    "print( a, \"+\" , a + 1 , \"+\" , \"...\" , \"+\" , b , \"=\" , ans )"
   ]
  },
  {
   "cell_type": "code",
   "execution_count": null,
   "metadata": {},
   "outputs": [],
   "source": [
    "n = input( \" > \" )\n",
    "print( \"*\"*( 10 - len(n)) + n )"
   ]
  },
  {
   "cell_type": "code",
   "execution_count": null,
   "metadata": {},
   "outputs": [],
   "source": [
    "for i in range(5) :\n",
    "    \n",
    "    print( \" * \" * ( i + 1 ))"
   ]
  },
  {
   "attachments": {},
   "cell_type": "markdown",
   "metadata": {},
   "source": [
    "**Practice**"
   ]
  },
  {
   "cell_type": "code",
   "execution_count": null,
   "metadata": {},
   "outputs": [],
   "source": [
    "import pylab\n",
    "\n",
    "def f(x):\n",
    "    return pylab.cos(x)**2 / pylab.sqrt(pylab.maximum(1, 2*x-1))\n",
    "    \n",
    "a, b, n = 0, 10*pylab.pi, 100\n",
    "xs = pylab.linspace(a,b,n)\n",
    "ys = f(xs)\n",
    "pylab.plot(xs,ys)\n",
    "\n",
    "pylab.show()"
   ]
  },
  {
   "cell_type": "code",
   "execution_count": null,
   "metadata": {},
   "outputs": [],
   "source": [
    "import pylab, numpy\n",
    "\n",
    "def factorial(n) :\n",
    "    \n",
    "    f = 1\n",
    "    for i in range(2, n+1) :\n",
    "        f *= i\n",
    "    return f\n",
    "\n",
    "def taylor_poly(n, x) :\n",
    "    \n",
    "    s = 0\n",
    "    for k in range(n) :\n",
    "        s = s + ((-1) ** (k) * (x ** (2 * k)) / factorial(2 * k)) + ((-1) ** (k) * (x ** ((2 * k) + 1)) / factorial((2 * k) + 1))\n",
    "\n",
    "    return s    \n",
    "\n",
    "a, b, m = 0 , 3 * numpy.pi, 100\n",
    "xs = numpy.linspace(a, b, m)\n",
    "\n",
    "n = 10\n",
    "for i in range(1, n+1) :\n",
    "    ys = taylor_poly(i, xs)\n",
    "    pylab.plot(xs, ys, label = \"P\" + str(2 * i - 1))\n",
    "\n",
    "pylab.plot(xs,numpy.sin(xs) + numpy.cos(xs), label = \"sin(x)+cos(x)\")\n",
    "pylab.title(\"HW1\"\n",
    "            \"-\"\n",
    "            \"Taylor polynomilas with different orders for sin(x)+cos(x)\")\n",
    "pylab.legend()\n",
    "pylab.grid()\n",
    "pylab.xlabel(\"X\")\n",
    "pylab.ylabel(\"Y\")\n",
    "pylab.ylim(-2, 2)\n",
    "pylab.show()"
   ]
  },
  {
   "cell_type": "code",
   "execution_count": null,
   "metadata": {},
   "outputs": [],
   "source": [
    "import pylab\n",
    "a , b , n = -4 , 4 , 500\n",
    "\n",
    "def g(t):\n",
    "    glist = []\n",
    "    for i in range(0,n):\n",
    "        if t[i]%pylab.pi>0 and t[i]%pylab.pi<pylab.pi/2:\n",
    "            glist.append(1)\n",
    "        else:\n",
    "            glist.append(-1)\n",
    "    return glist\n",
    "    \n",
    "gxs = pylab.linspace(a,b,n)\n",
    "gys = g(gxs)\n",
    "\n",
    "pylab.plot(gxs,gys)\n",
    "pylab.grid()\n",
    "pylab.show()\n",
    "\n",
    "def dg(s):\n",
    "    dglist=[]\n",
    "    h = (b-a)/(n-1)\n",
    "    for j in range(0,n):\n",
    "        if abs((g(s+h)[j]-g(s)[j])/h) < 100:\n",
    "            dglist.append((g(s+h)[j]-g(s)[j])/h)\n",
    "        else:\n",
    "            dglist.append(0)\n",
    "    return dglist\n",
    "\n",
    "dgxs = pylab.linspace(a,b,n)\n",
    "dgys = dg(dgxs)\n",
    "\n",
    "pylab.plot(dgxs,dgys)\n",
    "pylab.show()\n",
    "\n",
    "def h(u):\n",
    "    return 1.2732*pylab.sin(2*u)+0.4244*pylab.sin(6*u)+0.25465*pylab.sin(10*u)+0.18189*pylab.sin(14*u)+0.14147*pylab.sin(18*u)\n",
    "hxs = pylab.linspace(a,b,n)\n",
    "hys = h(hxs)\n",
    "pylab.plot(hxs,hys)\n",
    "pylab.show()\n",
    "\n",
    "def dh(v):\n",
    "    p = (b-a)/(n-1)\n",
    "    return (h(v+p)-h(v))/p\n",
    "    \n",
    "dhxs = pylab.linspace(a,b,n)\n",
    "dhys = dh(dhxs)\n",
    "pylab.plot(dhxs,dhys)\n",
    "pylab.show()"
   ]
  }
 ],
 "metadata": {
  "language_info": {
   "name": "python"
  },
  "orig_nbformat": 4
 },
 "nbformat": 4,
 "nbformat_minor": 2
}
